{
 "metadata": {
  "name": "",
  "signature": "sha256:81c013d8e8adbb3d86f36566eb3e40a986533c02c1f4c599de1745d031b91892"
 },
 "nbformat": 3,
 "nbformat_minor": 0,
 "worksheets": [
  {
   "cells": [
    {
     "cell_type": "markdown",
     "metadata": {},
     "source": [
      "The Basics of Python:\n",
      "=====================\n",
      "\n",
      "Exercises adapted from the [Google for Education Intro to Python Course](https://developers.google.com/edu/python/)"
     ]
    },
    {
     "cell_type": "markdown",
     "metadata": {},
     "source": [
      "Hello World\n",
      "-----------"
     ]
    },
    {
     "cell_type": "code",
     "collapsed": false,
     "input": [
      "print \"Hello World\""
     ],
     "language": "python",
     "metadata": {},
     "outputs": [
      {
       "output_type": "stream",
       "stream": "stdout",
       "text": [
        "Hello World\n"
       ]
      }
     ],
     "prompt_number": 5
    },
    {
     "cell_type": "markdown",
     "metadata": {},
     "source": [
      "No Main Function?\n",
      "-----------------"
     ]
    },
    {
     "cell_type": "code",
     "collapsed": false,
     "input": [
      "if __name__ == \"__main__\":\n",
      "    print \"Hello World\" "
     ],
     "language": "python",
     "metadata": {},
     "outputs": [
      {
       "output_type": "stream",
       "stream": "stdout",
       "text": [
        "Hello World\n"
       ]
      }
     ],
     "prompt_number": 6
    },
    {
     "cell_type": "markdown",
     "metadata": {},
     "source": [
      "Getting Help\n",
      "------------\n",
      "\n",
      "Put an object or class into `help()`\n",
      "\n",
      "*Everything is an object!*"
     ]
    },
    {
     "cell_type": "code",
     "collapsed": false,
     "input": [
      "help(object)"
     ],
     "language": "python",
     "metadata": {},
     "outputs": [
      {
       "output_type": "stream",
       "stream": "stdout",
       "text": [
        "Help on class object in module __builtin__:\n",
        "\n",
        "class object\n",
        " |  The most base type\n",
        "\n"
       ]
      }
     ],
     "prompt_number": 9
    },
    {
     "cell_type": "markdown",
     "metadata": {},
     "source": [
      "Finding Attributes\n",
      "------------------\n",
      "\n",
      "Use the builtin `dir()` function"
     ]
    },
    {
     "cell_type": "code",
     "collapsed": false,
     "input": [
      "dir(object)"
     ],
     "language": "python",
     "metadata": {},
     "outputs": [
      {
       "metadata": {},
       "output_type": "pyout",
       "prompt_number": 12,
       "text": [
        "['__class__',\n",
        " '__delattr__',\n",
        " '__doc__',\n",
        " '__format__',\n",
        " '__getattribute__',\n",
        " '__hash__',\n",
        " '__init__',\n",
        " '__new__',\n",
        " '__reduce__',\n",
        " '__reduce_ex__',\n",
        " '__repr__',\n",
        " '__setattr__',\n",
        " '__sizeof__',\n",
        " '__str__',\n",
        " '__subclasshook__']"
       ]
      }
     ],
     "prompt_number": 12
    },
    {
     "cell_type": "markdown",
     "metadata": {},
     "source": [
      "Finding Documentation\n",
      "---------------------\n",
      "\n",
      "use the `__doc__` \"attribute\""
     ]
    },
    {
     "cell_type": "code",
     "collapsed": false,
     "input": [
      "object.__doc__"
     ],
     "language": "python",
     "metadata": {},
     "outputs": [
      {
       "metadata": {},
       "output_type": "pyout",
       "prompt_number": 4,
       "text": [
        "'The most base type'"
       ]
      }
     ],
     "prompt_number": 4
    },
    {
     "cell_type": "markdown",
     "metadata": {},
     "source": [
      "The Reality of Programming in Python\n",
      "------------------------------------\n",
      "\n",
      "- Don't memorize, understand\n",
      "- [Read the manual](https://docs.python.org/2.7/library/index.html)\n",
      "- Search it. \n",
      "- [Read the Docs](https://readthedocs.org/)\n",
      "- Reach out. [Stack Overflow](http://stackoverflow.com/questions/tagged/python)\n"
     ]
    },
    {
     "cell_type": "markdown",
     "metadata": {},
     "source": [
      "Functions\n",
      "---------\n",
      "\n",
      "functions are little recipes. They tell python how to do something."
     ]
    },
    {
     "cell_type": "code",
     "collapsed": false,
     "input": [
      "def yell(greeting):\n",
      "    \"\"\"\n",
      "    Make a greeting extra annoying\n",
      "    \"\"\"\n",
      "    return greeting.upper() + \"!!!\""
     ],
     "language": "python",
     "metadata": {},
     "outputs": [],
     "prompt_number": 15
    },
    {
     "cell_type": "markdown",
     "metadata": {},
     "source": [
      "###*functions are objects*"
     ]
    },
    {
     "cell_type": "code",
     "collapsed": false,
     "input": [
      "help(yell)"
     ],
     "language": "python",
     "metadata": {},
     "outputs": [
      {
       "output_type": "stream",
       "stream": "stdout",
       "text": [
        "Help on function yell in module __main__:\n",
        "\n",
        "yell(greeting)\n",
        "    Make a greeting extra annoying\n",
        "\n"
       ]
      }
     ],
     "prompt_number": 13
    },
    {
     "cell_type": "code",
     "collapsed": false,
     "input": [
      "yell(\"hi guido\")"
     ],
     "language": "python",
     "metadata": {},
     "outputs": [
      {
       "metadata": {},
       "output_type": "pyout",
       "prompt_number": 16,
       "text": [
        "'HI GUIDO!!!'"
       ]
      }
     ],
     "prompt_number": 16
    },
    {
     "cell_type": "markdown",
     "metadata": {},
     "source": [
      "Code is checked at runtime"
     ]
    },
    {
     "cell_type": "code",
     "collapsed": false,
     "input": [
      "yell(1)"
     ],
     "language": "python",
     "metadata": {},
     "outputs": [
      {
       "ename": "AttributeError",
       "evalue": "'int' object has no attribute 'upper'",
       "output_type": "pyerr",
       "traceback": [
        "\u001b[1;31m---------------------------------------------------------------------------\u001b[0m\n\u001b[1;31mAttributeError\u001b[0m                            Traceback (most recent call last)",
        "\u001b[1;32m<ipython-input-18-d44d89b99edc>\u001b[0m in \u001b[0;36m<module>\u001b[1;34m()\u001b[0m\n\u001b[1;32m----> 1\u001b[1;33m \u001b[0myell\u001b[0m\u001b[1;33m(\u001b[0m\u001b[1;36m1\u001b[0m\u001b[1;33m)\u001b[0m\u001b[1;33m\u001b[0m\u001b[0m\n\u001b[0m",
        "\u001b[1;32m<ipython-input-15-bf7df2127cf7>\u001b[0m in \u001b[0;36myell\u001b[1;34m(greeting)\u001b[0m\n\u001b[0;32m      3\u001b[0m     \u001b[0mMake\u001b[0m \u001b[0ma\u001b[0m \u001b[0mgreeting\u001b[0m \u001b[0mextra\u001b[0m \u001b[0mannoying\u001b[0m\u001b[1;33m\u001b[0m\u001b[0m\n\u001b[0;32m      4\u001b[0m     \"\"\"\n\u001b[1;32m----> 5\u001b[1;33m     \u001b[1;32mreturn\u001b[0m \u001b[0mgreeting\u001b[0m\u001b[1;33m.\u001b[0m\u001b[0mupper\u001b[0m\u001b[1;33m(\u001b[0m\u001b[1;33m)\u001b[0m \u001b[1;33m+\u001b[0m \u001b[1;34m\"!!!\"\u001b[0m\u001b[1;33m\u001b[0m\u001b[0m\n\u001b[0m",
        "\u001b[1;31mAttributeError\u001b[0m: 'int' object has no attribute 'upper'"
       ]
      }
     ],
     "prompt_number": 18
    },
    {
     "cell_type": "markdown",
     "metadata": {},
     "source": [
      "Modules\n",
      "-------"
     ]
    },
    {
     "cell_type": "code",
     "collapsed": false,
     "input": [
      "import this"
     ],
     "language": "python",
     "metadata": {},
     "outputs": [
      {
       "output_type": "stream",
       "stream": "stdout",
       "text": [
        "The Zen of Python, by Tim Peters\n",
        "\n",
        "Beautiful is better than ugly.\n",
        "Explicit is better than implicit.\n",
        "Simple is better than complex.\n",
        "Complex is better than complicated.\n",
        "Flat is better than nested.\n",
        "Sparse is better than dense.\n",
        "Readability counts.\n",
        "Special cases aren't special enough to break the rules.\n",
        "Although practicality beats purity.\n",
        "Errors should never pass silently.\n",
        "Unless explicitly silenced.\n",
        "In the face of ambiguity, refuse the temptation to guess.\n",
        "There should be one-- and preferably only one --obvious way to do it.\n",
        "Although that way may not be obvious at first unless you're Dutch.\n",
        "Now is better than never.\n",
        "Although never is often better than *right* now.\n",
        "If the implementation is hard to explain, it's a bad idea.\n",
        "If the implementation is easy to explain, it may be a good idea.\n",
        "Namespaces are one honking great idea -- let's do more of those!\n"
       ]
      }
     ],
     "prompt_number": 30
    },
    {
     "cell_type": "markdown",
     "metadata": {},
     "source": [
      "###*You can also pick and choose*"
     ]
    },
    {
     "cell_type": "code",
     "collapsed": false,
     "input": [
      "from tests import test"
     ],
     "language": "python",
     "metadata": {},
     "outputs": [],
     "prompt_number": 2
    },
    {
     "cell_type": "markdown",
     "metadata": {},
     "source": [
      "String Exercises\n",
      "----------------"
     ]
    },
    {
     "cell_type": "markdown",
     "metadata": {},
     "source": [
      "###Donuts:"
     ]
    },
    {
     "cell_type": "code",
     "collapsed": false,
     "input": [
      "def donuts(count):\n",
      "    \"\"\"\n",
      "    Given an int count of a number of donuts, return a string\n",
      "    of the form 'Number of donuts: <count>', where <count> is the number\n",
      "    passed in. However, if the count is 10 or more, then use the word 'many'\n",
      "    instead of the actual count.\n",
      "    So donuts(5) returns 'Number of donuts: 5'\n",
      "    and donuts(23) returns 'Number of donuts: many'\n",
      "    Hint: search \"string formatting in python\"\n",
      "    \"\"\"\n",
      "    \n",
      "    # Your code here\n",
      "    \n",
      "    return\n",
      "\n",
      "\n",
      "test(donuts(5),'Number of donuts: 5')\n",
      "test(donuts(23),'Number of donuts: many')"
     ],
     "language": "python",
     "metadata": {},
     "outputs": [
      {
       "output_type": "stream",
       "stream": "stdout",
       "text": [
        "  X  got: \"None\", expected: \"'Number of donuts: 5'\"\n",
        "  X  got: \"None\", expected: \"'Number of donuts: many'\"\n"
       ]
      }
     ],
     "prompt_number": 4
    },
    {
     "cell_type": "markdown",
     "metadata": {},
     "source": [
      "###Both Ends:"
     ]
    },
    {
     "cell_type": "code",
     "collapsed": false,
     "input": [
      "# Given a string s, return a string made of the first 2\n",
      "# and the last 2 chars of the original string,\n",
      "# so 'spring' yields 'spng'. However, if the string length\n",
      "# is less than 2, return instead the empty string.\n",
      "def both_ends(s):\n",
      "    \"\"\"\n",
      "    Given a string s, return a string made of the first 2\n",
      "    and the last 2 chars of the original string,\n",
      "    so 'spring' yields 'spng'. However, if the string length\n",
      "    is less than 2, return instead the empty string.\n",
      "    Hint: search for \"string slicing in python\"\n",
      "    \"\"\"\n",
      "    \n",
      "    # Your code here\n",
      "    \n",
      "    return\n",
      "\n",
      "test(both_ends('spring'), 'spng')\n",
      "test(both_ends('Hello'), 'Helo')\n",
      "test(both_ends('a'), '')\n",
      "test(both_ends('xyz'), 'xyyz')"
     ],
     "language": "python",
     "metadata": {},
     "outputs": [
      {
       "output_type": "stream",
       "stream": "stdout",
       "text": [
        "  X  got: \"None\", expected: \"'spng'\"\n",
        "  X  got: \"None\", expected: \"'Helo'\"\n",
        "  X  got: \"None\", expected: \"''\"\n",
        "  X  got: \"None\", expected: \"'xyyz'\"\n"
       ]
      }
     ],
     "prompt_number": 5
    },
    {
     "cell_type": "markdown",
     "metadata": {},
     "source": [
      "###Fix Start:"
     ]
    },
    {
     "cell_type": "code",
     "collapsed": false,
     "input": [
      "\n",
      "def fix_start(s):\n",
      "    \"\"\"\n",
      "    Given a string s, return a string\n",
      "    where all occurences of its first char have\n",
      "    been changed to '*', except do not change\n",
      "    the first char itself.\n",
      "    e.g. 'babble' yields 'ba**le'\n",
      "    Assume that the string is length 1 or more.\n",
      "    Hint: s.replace(stra, strb) returns a version of string s\n",
      "    where all instances of stra have been replaced by strb.\n",
      "    \"\"\"\n",
      "    \n",
      "    # Your code here\n",
      "    \n",
      "    return\n",
      "\n",
      "test(fix_start('babble'), 'ba**le')\n",
      "test(fix_start('aardvark'), 'a*rdv*rk')\n",
      "test(fix_start('google'), 'goo*le')\n",
      "test(fix_start('donut'), 'donut')"
     ],
     "language": "python",
     "metadata": {},
     "outputs": [
      {
       "ename": "AssertionError",
       "evalue": "Expected \"ba**le\" but found \"None\"",
       "output_type": "pyerr",
       "traceback": [
        "\u001b[1;31m---------------------------------------------------------------------------\u001b[0m\n\u001b[1;31mAssertionError\u001b[0m                            Traceback (most recent call last)",
        "\u001b[1;32m<ipython-input-7-4f1e3126b27d>\u001b[0m in \u001b[0;36m<module>\u001b[1;34m()\u001b[0m\n\u001b[0;32m     11\u001b[0m   \u001b[1;32mreturn\u001b[0m\u001b[1;33m\u001b[0m\u001b[0m\n\u001b[0;32m     12\u001b[0m \u001b[1;33m\u001b[0m\u001b[0m\n\u001b[1;32m---> 13\u001b[1;33m \u001b[0mtest\u001b[0m\u001b[1;33m(\u001b[0m\u001b[0mfix_start\u001b[0m\u001b[1;33m(\u001b[0m\u001b[1;34m'babble'\u001b[0m\u001b[1;33m)\u001b[0m\u001b[1;33m,\u001b[0m \u001b[1;34m'ba**le'\u001b[0m\u001b[1;33m)\u001b[0m\u001b[1;33m\u001b[0m\u001b[0m\n\u001b[0m\u001b[0;32m     14\u001b[0m \u001b[0mtest\u001b[0m\u001b[1;33m(\u001b[0m\u001b[0mfix_start\u001b[0m\u001b[1;33m(\u001b[0m\u001b[1;34m'aardvark'\u001b[0m\u001b[1;33m)\u001b[0m\u001b[1;33m,\u001b[0m \u001b[1;34m'a*rdv*rk'\u001b[0m\u001b[1;33m)\u001b[0m\u001b[1;33m\u001b[0m\u001b[0m\n\u001b[0;32m     15\u001b[0m \u001b[0mtest\u001b[0m\u001b[1;33m(\u001b[0m\u001b[0mfix_start\u001b[0m\u001b[1;33m(\u001b[0m\u001b[1;34m'google'\u001b[0m\u001b[1;33m)\u001b[0m\u001b[1;33m,\u001b[0m \u001b[1;34m'goo*le'\u001b[0m\u001b[1;33m)\u001b[0m\u001b[1;33m\u001b[0m\u001b[0m\n",
        "\u001b[1;32m/home/_andrewclarkson/code/basics/tests.py\u001b[0m in \u001b[0;36mtest\u001b[1;34m(a, b)\u001b[0m\n\u001b[0;32m      1\u001b[0m \u001b[1;32mdef\u001b[0m \u001b[0mtest\u001b[0m\u001b[1;33m(\u001b[0m\u001b[0ma\u001b[0m\u001b[1;33m,\u001b[0m \u001b[0mb\u001b[0m\u001b[1;33m)\u001b[0m\u001b[1;33m:\u001b[0m\u001b[1;33m\u001b[0m\u001b[0m\n\u001b[1;32m----> 2\u001b[1;33m     \u001b[1;32massert\u001b[0m \u001b[0ma\u001b[0m \u001b[1;33m==\u001b[0m \u001b[0mb\u001b[0m\u001b[1;33m,\u001b[0m \u001b[1;34m'Expected \"%s\" but found \"%s\"'\u001b[0m \u001b[1;33m%\u001b[0m \u001b[1;33m(\u001b[0m\u001b[0mb\u001b[0m\u001b[1;33m,\u001b[0m \u001b[0ma\u001b[0m\u001b[1;33m)\u001b[0m\u001b[1;33m\u001b[0m\u001b[0m\n\u001b[0m\u001b[0;32m      3\u001b[0m \u001b[1;33m\u001b[0m\u001b[0m\n",
        "\u001b[1;31mAssertionError\u001b[0m: Expected \"ba**le\" but found \"None\""
       ]
      }
     ],
     "prompt_number": 7
    },
    {
     "cell_type": "markdown",
     "metadata": {},
     "source": [
      "###Mix Up"
     ]
    },
    {
     "cell_type": "code",
     "collapsed": false,
     "input": [
      "def mix_up(a, b):\n",
      "    \"\"\"\n",
      "    Given strings a and b, return a single string with a and b separated\n",
      "    by a space '<a> <b>', except swap the first 2 chars of each string.\n",
      "    e.g.\n",
      "    'mix', pod' -> 'pox mid'\n",
      "    'dog', 'dinner' -> 'dig donner'\n",
      "    Assume a and b are length 2 or more.\n",
      "    \"\"\"\n",
      "    # Your code here\n",
      "    return\n",
      "\n",
      "test(mix_up('mix', 'pod'), 'pox mid')\n",
      "test(mix_up('dog', 'dinner'), 'dig donner')\n",
      "test(mix_up('gnash', 'sport'), 'spash gnort')\n",
      "test(mix_up('pezzy', 'firm'), 'fizzy perm')"
     ],
     "language": "python",
     "metadata": {},
     "outputs": [
      {
       "output_type": "stream",
       "stream": "stdout",
       "text": [
        "  X  got: None expected: 'pox mid'\n",
        "  X  got: None expected: 'dig donner'\n",
        "  X  got: None expected: 'spash gnort'\n",
        "  X  got: None expected: 'fizzy perm'\n"
       ]
      }
     ],
     "prompt_number": 4
    },
    {
     "cell_type": "code",
     "collapsed": false,
     "input": [],
     "language": "python",
     "metadata": {},
     "outputs": []
    }
   ],
   "metadata": {}
  }
 ]
}